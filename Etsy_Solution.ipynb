{
  "cells": [
    {
      "cell_type": "code",
      "execution_count": null,
      "metadata": {
        "id": "UQUFrlTxZqYl"
      },
      "outputs": [],
      "source": [
        "#Importing the files\n",
        "import pyarrow.parquet as pq\n",
        "import os\n",
        "import pandas as pd\n",
        "\n",
        "# Defining the directory\n",
        "loc = '/content/drive/MyDrive/data/train'\n",
        "\n",
        "# Adding all parquet files\n",
        "pfs = [f for f in os.listdir(loc) if f.endswith('.parquet')]\n",
        "\n",
        "dataframes = []\n",
        "\n",
        "# Loop through each Parquet file, read it, and append to the list\n",
        "for f in pfs:\n",
        "    path = os.path.join(loc, file)\n",
        "    x = pq.read_table(path).to_pandas()\n",
        "    dataframes.append(x)\n",
        "\n",
        "# Concatanating all the dataframe into one\n",
        "data = pd.concat(dataframes, ignore_index=True)"
      ]
    },
    {
      "cell_type": "code",
      "execution_count": null,
      "metadata": {
        "colab": {
          "base_uri": "https://localhost:8080/",
          "height": 533
        },
        "id": "oWewgmOAEDJJ",
        "outputId": "8572eaf3-93cb-4d15-be3b-cd09bb7a36bb"
      },
      "outputs": [
        {
          "data": {
            "application/vnd.google.colaboratory.intrinsic+json": {
              "type": "dataframe",
              "variable_name": "combined_df"
            },
            "text/html": [
              "\n",
              "  <div id=\"df-8ead16ce-7695-40e9-ae1c-c270a678f632\" class=\"colab-df-container\">\n",
              "    <div>\n",
              "<style scoped>\n",
              "    .dataframe tbody tr th:only-of-type {\n",
              "        vertical-align: middle;\n",
              "    }\n",
              "\n",
              "    .dataframe tbody tr th {\n",
              "        vertical-align: top;\n",
              "    }\n",
              "\n",
              "    .dataframe thead th {\n",
              "        text-align: right;\n",
              "    }\n",
              "</style>\n",
              "<table border=\"1\" class=\"dataframe\">\n",
              "  <thead>\n",
              "    <tr style=\"text-align: right;\">\n",
              "      <th></th>\n",
              "      <th>product_id</th>\n",
              "      <th>title</th>\n",
              "      <th>description</th>\n",
              "      <th>tags</th>\n",
              "      <th>type</th>\n",
              "      <th>room</th>\n",
              "      <th>craft_type</th>\n",
              "      <th>recipient</th>\n",
              "      <th>material</th>\n",
              "      <th>occasion</th>\n",
              "      <th>...</th>\n",
              "      <th>bottom_category_text</th>\n",
              "      <th>top_category_id</th>\n",
              "      <th>top_category_text</th>\n",
              "      <th>primary_color_id</th>\n",
              "      <th>primary_color_text</th>\n",
              "      <th>secondary_color_id</th>\n",
              "      <th>secondary_color_text</th>\n",
              "      <th>image/encoded</th>\n",
              "      <th>image/width</th>\n",
              "      <th>image/height</th>\n",
              "    </tr>\n",
              "  </thead>\n",
              "  <tbody>\n",
              "    <tr>\n",
              "      <th>0</th>\n",
              "      <td>1618806578</td>\n",
              "      <td>Shirley Temple Pastime book 1935 Saalfield Pub...</td>\n",
              "      <td>Shirley Temple Pastime book 1935 Saalfield Pub...</td>\n",
              "      <td>child,childrens book,hardcover,vintage</td>\n",
              "      <td>physical</td>\n",
              "      <td></td>\n",
              "      <td></td>\n",
              "      <td></td>\n",
              "      <td></td>\n",
              "      <td></td>\n",
              "      <td>...</td>\n",
              "      <td>books_movies_and_music.books.childrens_books</td>\n",
              "      <td>4</td>\n",
              "      <td>books_movies_and_music</td>\n",
              "      <td>10</td>\n",
              "      <td>orange</td>\n",
              "      <td>13</td>\n",
              "      <td>rainbow</td>\n",
              "      <td>b'\\xff\\xd8\\xff\\xe0\\x00\\x10JFIF\\x00\\x01\\x01\\x00...</td>\n",
              "      <td>570</td>\n",
              "      <td>760</td>\n",
              "    </tr>\n",
              "    <tr>\n",
              "      <th>1</th>\n",
              "      <td>1647978452</td>\n",
              "      <td>Vintage children&amp;#39;s book from the 1960s 1963</td>\n",
              "      <td>According to § 19 UStG. VAT is not shown on th...</td>\n",
              "      <td></td>\n",
              "      <td>physical</td>\n",
              "      <td></td>\n",
              "      <td></td>\n",
              "      <td></td>\n",
              "      <td></td>\n",
              "      <td>birthday</td>\n",
              "      <td>...</td>\n",
              "      <td>books_movies_and_music.books.childrens_books</td>\n",
              "      <td>4</td>\n",
              "      <td>books_movies_and_music</td>\n",
              "      <td>17</td>\n",
              "      <td>white</td>\n",
              "      <td>14</td>\n",
              "      <td>red</td>\n",
              "      <td>b'\\xff\\xd8\\xff\\xe0\\x00\\x10JFIF\\x00\\x01\\x01\\x00...</td>\n",
              "      <td>570</td>\n",
              "      <td>428</td>\n",
              "    </tr>\n",
              "    <tr>\n",
              "      <th>2</th>\n",
              "      <td>694926553</td>\n",
              "      <td>Vintage Children&amp;#39;s Book and Record, Little...</td>\n",
              "      <td>Vintage children&amp;#39;s book and record. 24 pag...</td>\n",
              "      <td>puss in boots,cat,classic,disney,disneyland,vi...</td>\n",
              "      <td>physical</td>\n",
              "      <td></td>\n",
              "      <td></td>\n",
              "      <td></td>\n",
              "      <td></td>\n",
              "      <td>birthday</td>\n",
              "      <td>...</td>\n",
              "      <td>books_movies_and_music.books.childrens_books</td>\n",
              "      <td>4</td>\n",
              "      <td>books_movies_and_music</td>\n",
              "      <td>9</td>\n",
              "      <td>green</td>\n",
              "      <td>13</td>\n",
              "      <td>rainbow</td>\n",
              "      <td>b'\\xff\\xd8\\xff\\xe0\\x00\\x10JFIF\\x00\\x01\\x01\\x00...</td>\n",
              "      <td>570</td>\n",
              "      <td>763</td>\n",
              "    </tr>\n",
              "    <tr>\n",
              "      <th>3</th>\n",
              "      <td>1524591637</td>\n",
              "      <td>You&amp;#39;re in Love, Charlie Brown - Charles M....</td>\n",
              "      <td>You&amp;#39;re in Love, Charlie Brown \\nCharles M....</td>\n",
              "      <td>collectible books,gifts for readers,gift ideas...</td>\n",
              "      <td>physical</td>\n",
              "      <td></td>\n",
              "      <td></td>\n",
              "      <td></td>\n",
              "      <td></td>\n",
              "      <td></td>\n",
              "      <td>...</td>\n",
              "      <td>books_movies_and_music.books.childrens_books</td>\n",
              "      <td>4</td>\n",
              "      <td>books_movies_and_music</td>\n",
              "      <td>2</td>\n",
              "      <td>blue</td>\n",
              "      <td>14</td>\n",
              "      <td>red</td>\n",
              "      <td>b'\\xff\\xd8\\xff\\xe0\\x00\\x10JFIF\\x00\\x01\\x01\\x00...</td>\n",
              "      <td>570</td>\n",
              "      <td>427</td>\n",
              "    </tr>\n",
              "    <tr>\n",
              "      <th>4</th>\n",
              "      <td>1633806231</td>\n",
              "      <td>The Children of the Frostmoor: A Swedish story...</td>\n",
              "      <td>The Children of the Frostmoor \\nA Swedish  Sto...</td>\n",
              "      <td>Children  Frostmoor,Laura Fitinghoff,Rosa Peth...</td>\n",
              "      <td>physical</td>\n",
              "      <td></td>\n",
              "      <td></td>\n",
              "      <td></td>\n",
              "      <td></td>\n",
              "      <td>birthday</td>\n",
              "      <td>...</td>\n",
              "      <td>books_movies_and_music.books.childrens_books</td>\n",
              "      <td>4</td>\n",
              "      <td>books_movies_and_music</td>\n",
              "      <td>14</td>\n",
              "      <td>red</td>\n",
              "      <td>17</td>\n",
              "      <td>white</td>\n",
              "      <td>b'\\xff\\xd8\\xff\\xe0\\x00\\x10JFIF\\x00\\x01\\x01\\x00...</td>\n",
              "      <td>570</td>\n",
              "      <td>760</td>\n",
              "    </tr>\n",
              "  </tbody>\n",
              "</table>\n",
              "<p>5 rows × 26 columns</p>\n",
              "</div>\n",
              "    <div class=\"colab-df-buttons\">\n",
              "\n",
              "  <div class=\"colab-df-container\">\n",
              "    <button class=\"colab-df-convert\" onclick=\"convertToInteractive('df-8ead16ce-7695-40e9-ae1c-c270a678f632')\"\n",
              "            title=\"Convert this dataframe to an interactive table.\"\n",
              "            style=\"display:none;\">\n",
              "\n",
              "  <svg xmlns=\"http://www.w3.org/2000/svg\" height=\"24px\" viewBox=\"0 -960 960 960\">\n",
              "    <path d=\"M120-120v-720h720v720H120Zm60-500h600v-160H180v160Zm220 220h160v-160H400v160Zm0 220h160v-160H400v160ZM180-400h160v-160H180v160Zm440 0h160v-160H620v160ZM180-180h160v-160H180v160Zm440 0h160v-160H620v160Z\"/>\n",
              "  </svg>\n",
              "    </button>\n",
              "\n",
              "  <style>\n",
              "    .colab-df-container {\n",
              "      display:flex;\n",
              "      gap: 12px;\n",
              "    }\n",
              "\n",
              "    .colab-df-convert {\n",
              "      background-color: #E8F0FE;\n",
              "      border: none;\n",
              "      border-radius: 50%;\n",
              "      cursor: pointer;\n",
              "      display: none;\n",
              "      fill: #1967D2;\n",
              "      height: 32px;\n",
              "      padding: 0 0 0 0;\n",
              "      width: 32px;\n",
              "    }\n",
              "\n",
              "    .colab-df-convert:hover {\n",
              "      background-color: #E2EBFA;\n",
              "      box-shadow: 0px 1px 2px rgba(60, 64, 67, 0.3), 0px 1px 3px 1px rgba(60, 64, 67, 0.15);\n",
              "      fill: #174EA6;\n",
              "    }\n",
              "\n",
              "    .colab-df-buttons div {\n",
              "      margin-bottom: 4px;\n",
              "    }\n",
              "\n",
              "    [theme=dark] .colab-df-convert {\n",
              "      background-color: #3B4455;\n",
              "      fill: #D2E3FC;\n",
              "    }\n",
              "\n",
              "    [theme=dark] .colab-df-convert:hover {\n",
              "      background-color: #434B5C;\n",
              "      box-shadow: 0px 1px 3px 1px rgba(0, 0, 0, 0.15);\n",
              "      filter: drop-shadow(0px 1px 2px rgba(0, 0, 0, 0.3));\n",
              "      fill: #FFFFFF;\n",
              "    }\n",
              "  </style>\n",
              "\n",
              "    <script>\n",
              "      const buttonEl =\n",
              "        document.querySelector('#df-8ead16ce-7695-40e9-ae1c-c270a678f632 button.colab-df-convert');\n",
              "      buttonEl.style.display =\n",
              "        google.colab.kernel.accessAllowed ? 'block' : 'none';\n",
              "\n",
              "      async function convertToInteractive(key) {\n",
              "        const element = document.querySelector('#df-8ead16ce-7695-40e9-ae1c-c270a678f632');\n",
              "        const dataTable =\n",
              "          await google.colab.kernel.invokeFunction('convertToInteractive',\n",
              "                                                    [key], {});\n",
              "        if (!dataTable) return;\n",
              "\n",
              "        const docLinkHtml = 'Like what you see? Visit the ' +\n",
              "          '<a target=\"_blank\" href=https://colab.research.google.com/notebooks/data_table.ipynb>data table notebook</a>'\n",
              "          + ' to learn more about interactive tables.';\n",
              "        element.innerHTML = '';\n",
              "        dataTable['output_type'] = 'display_data';\n",
              "        await google.colab.output.renderOutput(dataTable, element);\n",
              "        const docLink = document.createElement('div');\n",
              "        docLink.innerHTML = docLinkHtml;\n",
              "        element.appendChild(docLink);\n",
              "      }\n",
              "    </script>\n",
              "  </div>\n",
              "\n",
              "\n",
              "<div id=\"df-a8e1c386-03d5-45db-a236-bcdbec0b316b\">\n",
              "  <button class=\"colab-df-quickchart\" onclick=\"quickchart('df-a8e1c386-03d5-45db-a236-bcdbec0b316b')\"\n",
              "            title=\"Suggest charts\"\n",
              "            style=\"display:none;\">\n",
              "\n",
              "<svg xmlns=\"http://www.w3.org/2000/svg\" height=\"24px\"viewBox=\"0 0 24 24\"\n",
              "     width=\"24px\">\n",
              "    <g>\n",
              "        <path d=\"M19 3H5c-1.1 0-2 .9-2 2v14c0 1.1.9 2 2 2h14c1.1 0 2-.9 2-2V5c0-1.1-.9-2-2-2zM9 17H7v-7h2v7zm4 0h-2V7h2v10zm4 0h-2v-4h2v4z\"/>\n",
              "    </g>\n",
              "</svg>\n",
              "  </button>\n",
              "\n",
              "<style>\n",
              "  .colab-df-quickchart {\n",
              "      --bg-color: #E8F0FE;\n",
              "      --fill-color: #1967D2;\n",
              "      --hover-bg-color: #E2EBFA;\n",
              "      --hover-fill-color: #174EA6;\n",
              "      --disabled-fill-color: #AAA;\n",
              "      --disabled-bg-color: #DDD;\n",
              "  }\n",
              "\n",
              "  [theme=dark] .colab-df-quickchart {\n",
              "      --bg-color: #3B4455;\n",
              "      --fill-color: #D2E3FC;\n",
              "      --hover-bg-color: #434B5C;\n",
              "      --hover-fill-color: #FFFFFF;\n",
              "      --disabled-bg-color: #3B4455;\n",
              "      --disabled-fill-color: #666;\n",
              "  }\n",
              "\n",
              "  .colab-df-quickchart {\n",
              "    background-color: var(--bg-color);\n",
              "    border: none;\n",
              "    border-radius: 50%;\n",
              "    cursor: pointer;\n",
              "    display: none;\n",
              "    fill: var(--fill-color);\n",
              "    height: 32px;\n",
              "    padding: 0;\n",
              "    width: 32px;\n",
              "  }\n",
              "\n",
              "  .colab-df-quickchart:hover {\n",
              "    background-color: var(--hover-bg-color);\n",
              "    box-shadow: 0 1px 2px rgba(60, 64, 67, 0.3), 0 1px 3px 1px rgba(60, 64, 67, 0.15);\n",
              "    fill: var(--button-hover-fill-color);\n",
              "  }\n",
              "\n",
              "  .colab-df-quickchart-complete:disabled,\n",
              "  .colab-df-quickchart-complete:disabled:hover {\n",
              "    background-color: var(--disabled-bg-color);\n",
              "    fill: var(--disabled-fill-color);\n",
              "    box-shadow: none;\n",
              "  }\n",
              "\n",
              "  .colab-df-spinner {\n",
              "    border: 2px solid var(--fill-color);\n",
              "    border-color: transparent;\n",
              "    border-bottom-color: var(--fill-color);\n",
              "    animation:\n",
              "      spin 1s steps(1) infinite;\n",
              "  }\n",
              "\n",
              "  @keyframes spin {\n",
              "    0% {\n",
              "      border-color: transparent;\n",
              "      border-bottom-color: var(--fill-color);\n",
              "      border-left-color: var(--fill-color);\n",
              "    }\n",
              "    20% {\n",
              "      border-color: transparent;\n",
              "      border-left-color: var(--fill-color);\n",
              "      border-top-color: var(--fill-color);\n",
              "    }\n",
              "    30% {\n",
              "      border-color: transparent;\n",
              "      border-left-color: var(--fill-color);\n",
              "      border-top-color: var(--fill-color);\n",
              "      border-right-color: var(--fill-color);\n",
              "    }\n",
              "    40% {\n",
              "      border-color: transparent;\n",
              "      border-right-color: var(--fill-color);\n",
              "      border-top-color: var(--fill-color);\n",
              "    }\n",
              "    60% {\n",
              "      border-color: transparent;\n",
              "      border-right-color: var(--fill-color);\n",
              "    }\n",
              "    80% {\n",
              "      border-color: transparent;\n",
              "      border-right-color: var(--fill-color);\n",
              "      border-bottom-color: var(--fill-color);\n",
              "    }\n",
              "    90% {\n",
              "      border-color: transparent;\n",
              "      border-bottom-color: var(--fill-color);\n",
              "    }\n",
              "  }\n",
              "</style>\n",
              "\n",
              "  <script>\n",
              "    async function quickchart(key) {\n",
              "      const quickchartButtonEl =\n",
              "        document.querySelector('#' + key + ' button');\n",
              "      quickchartButtonEl.disabled = true;  // To prevent multiple clicks.\n",
              "      quickchartButtonEl.classList.add('colab-df-spinner');\n",
              "      try {\n",
              "        const charts = await google.colab.kernel.invokeFunction(\n",
              "            'suggestCharts', [key], {});\n",
              "      } catch (error) {\n",
              "        console.error('Error during call to suggestCharts:', error);\n",
              "      }\n",
              "      quickchartButtonEl.classList.remove('colab-df-spinner');\n",
              "      quickchartButtonEl.classList.add('colab-df-quickchart-complete');\n",
              "    }\n",
              "    (() => {\n",
              "      let quickchartButtonEl =\n",
              "        document.querySelector('#df-a8e1c386-03d5-45db-a236-bcdbec0b316b button');\n",
              "      quickchartButtonEl.style.display =\n",
              "        google.colab.kernel.accessAllowed ? 'block' : 'none';\n",
              "    })();\n",
              "  </script>\n",
              "</div>\n",
              "    </div>\n",
              "  </div>\n"
            ],
            "text/plain": [
              "   product_id                                              title  \\\n",
              "0  1618806578  Shirley Temple Pastime book 1935 Saalfield Pub...   \n",
              "1  1647978452    Vintage children&#39;s book from the 1960s 1963   \n",
              "2   694926553  Vintage Children&#39;s Book and Record, Little...   \n",
              "3  1524591637  You&#39;re in Love, Charlie Brown - Charles M....   \n",
              "4  1633806231  The Children of the Frostmoor: A Swedish story...   \n",
              "\n",
              "                                         description  \\\n",
              "0  Shirley Temple Pastime book 1935 Saalfield Pub...   \n",
              "1  According to § 19 UStG. VAT is not shown on th...   \n",
              "2  Vintage children&#39;s book and record. 24 pag...   \n",
              "3  You&#39;re in Love, Charlie Brown \\nCharles M....   \n",
              "4  The Children of the Frostmoor \\nA Swedish  Sto...   \n",
              "\n",
              "                                                tags      type room  \\\n",
              "0             child,childrens book,hardcover,vintage  physical        \n",
              "1                                                     physical        \n",
              "2  puss in boots,cat,classic,disney,disneyland,vi...  physical        \n",
              "3  collectible books,gifts for readers,gift ideas...  physical        \n",
              "4  Children  Frostmoor,Laura Fitinghoff,Rosa Peth...  physical        \n",
              "\n",
              "  craft_type recipient material  occasion  ...  \\\n",
              "0                                          ...   \n",
              "1                                birthday  ...   \n",
              "2                                birthday  ...   \n",
              "3                                          ...   \n",
              "4                                birthday  ...   \n",
              "\n",
              "                           bottom_category_text top_category_id  \\\n",
              "0  books_movies_and_music.books.childrens_books               4   \n",
              "1  books_movies_and_music.books.childrens_books               4   \n",
              "2  books_movies_and_music.books.childrens_books               4   \n",
              "3  books_movies_and_music.books.childrens_books               4   \n",
              "4  books_movies_and_music.books.childrens_books               4   \n",
              "\n",
              "        top_category_text primary_color_id primary_color_text  \\\n",
              "0  books_movies_and_music               10             orange   \n",
              "1  books_movies_and_music               17              white   \n",
              "2  books_movies_and_music                9              green   \n",
              "3  books_movies_and_music                2               blue   \n",
              "4  books_movies_and_music               14                red   \n",
              "\n",
              "   secondary_color_id secondary_color_text  \\\n",
              "0                  13              rainbow   \n",
              "1                  14                  red   \n",
              "2                  13              rainbow   \n",
              "3                  14                  red   \n",
              "4                  17                white   \n",
              "\n",
              "                                       image/encoded image/width  image/height  \n",
              "0  b'\\xff\\xd8\\xff\\xe0\\x00\\x10JFIF\\x00\\x01\\x01\\x00...         570           760  \n",
              "1  b'\\xff\\xd8\\xff\\xe0\\x00\\x10JFIF\\x00\\x01\\x01\\x00...         570           428  \n",
              "2  b'\\xff\\xd8\\xff\\xe0\\x00\\x10JFIF\\x00\\x01\\x01\\x00...         570           763  \n",
              "3  b'\\xff\\xd8\\xff\\xe0\\x00\\x10JFIF\\x00\\x01\\x01\\x00...         570           427  \n",
              "4  b'\\xff\\xd8\\xff\\xe0\\x00\\x10JFIF\\x00\\x01\\x01\\x00...         570           760  \n",
              "\n",
              "[5 rows x 26 columns]"
            ]
          },
          "execution_count": 3,
          "metadata": {},
          "output_type": "execute_result"
        }
      ],
      "source": [
        "data.head()"
      ]
    },
    {
      "cell_type": "code",
      "execution_count": null,
      "metadata": {
        "colab": {
          "base_uri": "https://localhost:8080/"
        },
        "id": "VrDTkYStNVQb",
        "outputId": "ef809c4a-f8a7-4b45-e14b-9bfd16a3aad1"
      },
      "outputs": [
        {
          "data": {
            "text/plain": [
              "31169"
            ]
          },
          "execution_count": 4,
          "metadata": {},
          "output_type": "execute_result"
        }
      ],
      "source": [
        "import pandas as pd\n",
        "\n",
        "#  empty tags row removed\n",
        "len(data[combined_df['tags'] == ''])\n"
      ]
    },
    {
      "cell_type": "code",
      "execution_count": null,
      "metadata": {
        "id": "cT_gzL0jOZLL"
      },
      "outputs": [],
      "source": [
        "#deleting rows which hasnt got tags\n",
        "data = data[data['tags'] != '']"
      ]
    },
    {
      "cell_type": "code",
      "execution_count": null,
      "metadata": {
        "colab": {
          "base_uri": "https://localhost:8080/"
        },
        "id": "PEgTGV7tPTmn",
        "outputId": "6e74592a-6ed5-4127-e6d9-684a40fd4869"
      },
      "outputs": [
        {
          "name": "stdout",
          "output_type": "stream",
          "text": [
            "product_id              0\n",
            "title                   0\n",
            "description             0\n",
            "tags                    0\n",
            "type                    0\n",
            "room                    0\n",
            "craft_type              0\n",
            "recipient               0\n",
            "material                0\n",
            "occasion                0\n",
            "holiday                 0\n",
            "art_subject             0\n",
            "style                   0\n",
            "shape                   0\n",
            "pattern                 0\n",
            "bottom_category_id      0\n",
            "bottom_category_text    0\n",
            "top_category_id         0\n",
            "top_category_text       0\n",
            "primary_color_id        0\n",
            "primary_color_text      0\n",
            "secondary_color_id      0\n",
            "secondary_color_text    0\n",
            "image/encoded           0\n",
            "image/width             0\n",
            "image/height            0\n",
            "dtype: int64\n",
            "(198455, 26)\n"
          ]
        }
      ],
      "source": [
        "print(data.isnull().sum())\n",
        "print(data.shape)"
      ]
    },
    {
      "cell_type": "code",
      "execution_count": null,
      "metadata": {
        "colab": {
          "base_uri": "https://localhost:8080/"
        },
        "id": "3Saseg-HPezr",
        "outputId": "155637b4-5a57-4ab7-d771-26118148cdda"
      },
      "outputs": [
        {
          "data": {
            "text/plain": [
              "2"
            ]
          },
          "execution_count": 8,
          "metadata": {},
          "output_type": "execute_result"
        }
      ],
      "source": [
        "# rows with empty title\n",
        "len(data[data['title'] == ''])"
      ]
    },
    {
      "cell_type": "code",
      "execution_count": null,
      "metadata": {
        "id": "xBhTEzDhR1Ns"
      },
      "outputs": [],
      "source": [
        "#deleting the rows without title\n",
        "data = data[data['title'] != '']"
      ]
    },
    {
      "cell_type": "code",
      "execution_count": null,
      "metadata": {
        "colab": {
          "base_uri": "https://localhost:8080/",
          "height": 689
        },
        "id": "VSESzdTTVRs7",
        "outputId": "05b47553-df53-4e3d-f1d4-085969fe2a69"
      },
      "outputs": [
        {
          "data": {
            "application/vnd.google.colaboratory.intrinsic+json": {
              "type": "dataframe",
              "variable_name": "df"
            },
            "text/html": [
              "\n",
              "  <div id=\"df-b9a563eb-a29a-4850-a563-686363ec9574\" class=\"colab-df-container\">\n",
              "    <div>\n",
              "<style scoped>\n",
              "    .dataframe tbody tr th:only-of-type {\n",
              "        vertical-align: middle;\n",
              "    }\n",
              "\n",
              "    .dataframe tbody tr th {\n",
              "        vertical-align: top;\n",
              "    }\n",
              "\n",
              "    .dataframe thead th {\n",
              "        text-align: right;\n",
              "    }\n",
              "</style>\n",
              "<table border=\"1\" class=\"dataframe\">\n",
              "  <thead>\n",
              "    <tr style=\"text-align: right;\">\n",
              "      <th></th>\n",
              "      <th>product_id</th>\n",
              "      <th>title</th>\n",
              "      <th>description</th>\n",
              "      <th>tags</th>\n",
              "      <th>type</th>\n",
              "      <th>room</th>\n",
              "      <th>craft_type</th>\n",
              "      <th>recipient</th>\n",
              "      <th>material</th>\n",
              "      <th>occasion</th>\n",
              "      <th>...</th>\n",
              "      <th>bottom_category_text</th>\n",
              "      <th>top_category_id</th>\n",
              "      <th>top_category_text</th>\n",
              "      <th>primary_color_id</th>\n",
              "      <th>primary_color_text</th>\n",
              "      <th>secondary_color_id</th>\n",
              "      <th>secondary_color_text</th>\n",
              "      <th>image/encoded</th>\n",
              "      <th>image/width</th>\n",
              "      <th>image/height</th>\n",
              "    </tr>\n",
              "  </thead>\n",
              "  <tbody>\n",
              "    <tr>\n",
              "      <th>0</th>\n",
              "      <td>1618806578</td>\n",
              "      <td>Shirley Temple Pastime book 1935 Saalfield Pub...</td>\n",
              "      <td>Shirley Temple Pastime book 1935 Saalfield Pub...</td>\n",
              "      <td>child,childrens book,hardcover,vintage</td>\n",
              "      <td>physical</td>\n",
              "      <td></td>\n",
              "      <td></td>\n",
              "      <td></td>\n",
              "      <td></td>\n",
              "      <td></td>\n",
              "      <td>...</td>\n",
              "      <td>books_movies_and_music.books.childrens_books</td>\n",
              "      <td>4</td>\n",
              "      <td>books_movies_and_music</td>\n",
              "      <td>10</td>\n",
              "      <td>orange</td>\n",
              "      <td>13</td>\n",
              "      <td>rainbow</td>\n",
              "      <td>b'\\xff\\xd8\\xff\\xe0\\x00\\x10JFIF\\x00\\x01\\x01\\x00...</td>\n",
              "      <td>570</td>\n",
              "      <td>760</td>\n",
              "    </tr>\n",
              "    <tr>\n",
              "      <th>2</th>\n",
              "      <td>694926553</td>\n",
              "      <td>Vintage Children's Book and Record, Little Gol...</td>\n",
              "      <td>Vintage children&amp;#39;s book and record. 24 pag...</td>\n",
              "      <td>puss in boots,cat,classic,disney,disneyland,vi...</td>\n",
              "      <td>physical</td>\n",
              "      <td></td>\n",
              "      <td></td>\n",
              "      <td></td>\n",
              "      <td></td>\n",
              "      <td>birthday</td>\n",
              "      <td>...</td>\n",
              "      <td>books_movies_and_music.books.childrens_books</td>\n",
              "      <td>4</td>\n",
              "      <td>books_movies_and_music</td>\n",
              "      <td>9</td>\n",
              "      <td>green</td>\n",
              "      <td>13</td>\n",
              "      <td>rainbow</td>\n",
              "      <td>b'\\xff\\xd8\\xff\\xe0\\x00\\x10JFIF\\x00\\x01\\x01\\x00...</td>\n",
              "      <td>570</td>\n",
              "      <td>763</td>\n",
              "    </tr>\n",
              "    <tr>\n",
              "      <th>3</th>\n",
              "      <td>1524591637</td>\n",
              "      <td>You're in Love, Charlie Brown - Charles M. Sch...</td>\n",
              "      <td>You&amp;#39;re in Love, Charlie Brown \\nCharles M....</td>\n",
              "      <td>collectible books,gifts for readers,gift ideas...</td>\n",
              "      <td>physical</td>\n",
              "      <td></td>\n",
              "      <td></td>\n",
              "      <td></td>\n",
              "      <td></td>\n",
              "      <td></td>\n",
              "      <td>...</td>\n",
              "      <td>books_movies_and_music.books.childrens_books</td>\n",
              "      <td>4</td>\n",
              "      <td>books_movies_and_music</td>\n",
              "      <td>2</td>\n",
              "      <td>blue</td>\n",
              "      <td>14</td>\n",
              "      <td>red</td>\n",
              "      <td>b'\\xff\\xd8\\xff\\xe0\\x00\\x10JFIF\\x00\\x01\\x01\\x00...</td>\n",
              "      <td>570</td>\n",
              "      <td>427</td>\n",
              "    </tr>\n",
              "    <tr>\n",
              "      <th>4</th>\n",
              "      <td>1633806231</td>\n",
              "      <td>The Children of the Frostmoor: A Swedish story...</td>\n",
              "      <td>The Children of the Frostmoor \\nA Swedish  Sto...</td>\n",
              "      <td>Children  Frostmoor,Laura Fitinghoff,Rosa Peth...</td>\n",
              "      <td>physical</td>\n",
              "      <td></td>\n",
              "      <td></td>\n",
              "      <td></td>\n",
              "      <td></td>\n",
              "      <td>birthday</td>\n",
              "      <td>...</td>\n",
              "      <td>books_movies_and_music.books.childrens_books</td>\n",
              "      <td>4</td>\n",
              "      <td>books_movies_and_music</td>\n",
              "      <td>14</td>\n",
              "      <td>red</td>\n",
              "      <td>17</td>\n",
              "      <td>white</td>\n",
              "      <td>b'\\xff\\xd8\\xff\\xe0\\x00\\x10JFIF\\x00\\x01\\x01\\x00...</td>\n",
              "      <td>570</td>\n",
              "      <td>760</td>\n",
              "    </tr>\n",
              "    <tr>\n",
              "      <th>7</th>\n",
              "      <td>1090130977</td>\n",
              "      <td>NODDY meets Santa hardback Christmas book Chil...</td>\n",
              "      <td>Vintage NODDY meets Santa hardback Christmas b...</td>\n",
              "      <td>Noddy,Father Christmas,Christmas book,Noddy bo...</td>\n",
              "      <td>physical</td>\n",
              "      <td></td>\n",
              "      <td></td>\n",
              "      <td></td>\n",
              "      <td></td>\n",
              "      <td></td>\n",
              "      <td>...</td>\n",
              "      <td>books_movies_and_music.books.childrens_books</td>\n",
              "      <td>4</td>\n",
              "      <td>books_movies_and_music</td>\n",
              "      <td>18</td>\n",
              "      <td>yellow</td>\n",
              "      <td>14</td>\n",
              "      <td>red</td>\n",
              "      <td>b'\\xff\\xd8\\xff\\xe0\\x00\\x10JFIF\\x00\\x01\\x01\\x00...</td>\n",
              "      <td>570</td>\n",
              "      <td>570</td>\n",
              "    </tr>\n",
              "  </tbody>\n",
              "</table>\n",
              "<p>5 rows × 26 columns</p>\n",
              "</div>\n",
              "    <div class=\"colab-df-buttons\">\n",
              "\n",
              "  <div class=\"colab-df-container\">\n",
              "    <button class=\"colab-df-convert\" onclick=\"convertToInteractive('df-b9a563eb-a29a-4850-a563-686363ec9574')\"\n",
              "            title=\"Convert this dataframe to an interactive table.\"\n",
              "            style=\"display:none;\">\n",
              "\n",
              "  <svg xmlns=\"http://www.w3.org/2000/svg\" height=\"24px\" viewBox=\"0 -960 960 960\">\n",
              "    <path d=\"M120-120v-720h720v720H120Zm60-500h600v-160H180v160Zm220 220h160v-160H400v160Zm0 220h160v-160H400v160ZM180-400h160v-160H180v160Zm440 0h160v-160H620v160ZM180-180h160v-160H180v160Zm440 0h160v-160H620v160Z\"/>\n",
              "  </svg>\n",
              "    </button>\n",
              "\n",
              "  <style>\n",
              "    .colab-df-container {\n",
              "      display:flex;\n",
              "      gap: 12px;\n",
              "    }\n",
              "\n",
              "    .colab-df-convert {\n",
              "      background-color: #E8F0FE;\n",
              "      border: none;\n",
              "      border-radius: 50%;\n",
              "      cursor: pointer;\n",
              "      display: none;\n",
              "      fill: #1967D2;\n",
              "      height: 32px;\n",
              "      padding: 0 0 0 0;\n",
              "      width: 32px;\n",
              "    }\n",
              "\n",
              "    .colab-df-convert:hover {\n",
              "      background-color: #E2EBFA;\n",
              "      box-shadow: 0px 1px 2px rgba(60, 64, 67, 0.3), 0px 1px 3px 1px rgba(60, 64, 67, 0.15);\n",
              "      fill: #174EA6;\n",
              "    }\n",
              "\n",
              "    .colab-df-buttons div {\n",
              "      margin-bottom: 4px;\n",
              "    }\n",
              "\n",
              "    [theme=dark] .colab-df-convert {\n",
              "      background-color: #3B4455;\n",
              "      fill: #D2E3FC;\n",
              "    }\n",
              "\n",
              "    [theme=dark] .colab-df-convert:hover {\n",
              "      background-color: #434B5C;\n",
              "      box-shadow: 0px 1px 3px 1px rgba(0, 0, 0, 0.15);\n",
              "      filter: drop-shadow(0px 1px 2px rgba(0, 0, 0, 0.3));\n",
              "      fill: #FFFFFF;\n",
              "    }\n",
              "  </style>\n",
              "\n",
              "    <script>\n",
              "      const buttonEl =\n",
              "        document.querySelector('#df-b9a563eb-a29a-4850-a563-686363ec9574 button.colab-df-convert');\n",
              "      buttonEl.style.display =\n",
              "        google.colab.kernel.accessAllowed ? 'block' : 'none';\n",
              "\n",
              "      async function convertToInteractive(key) {\n",
              "        const element = document.querySelector('#df-b9a563eb-a29a-4850-a563-686363ec9574');\n",
              "        const dataTable =\n",
              "          await google.colab.kernel.invokeFunction('convertToInteractive',\n",
              "                                                    [key], {});\n",
              "        if (!dataTable) return;\n",
              "\n",
              "        const docLinkHtml = 'Like what you see? Visit the ' +\n",
              "          '<a target=\"_blank\" href=https://colab.research.google.com/notebooks/data_table.ipynb>data table notebook</a>'\n",
              "          + ' to learn more about interactive tables.';\n",
              "        element.innerHTML = '';\n",
              "        dataTable['output_type'] = 'display_data';\n",
              "        await google.colab.output.renderOutput(dataTable, element);\n",
              "        const docLink = document.createElement('div');\n",
              "        docLink.innerHTML = docLinkHtml;\n",
              "        element.appendChild(docLink);\n",
              "      }\n",
              "    </script>\n",
              "  </div>\n",
              "\n",
              "\n",
              "<div id=\"df-eac8e266-abbc-4a84-9f08-b33d80c0ba25\">\n",
              "  <button class=\"colab-df-quickchart\" onclick=\"quickchart('df-eac8e266-abbc-4a84-9f08-b33d80c0ba25')\"\n",
              "            title=\"Suggest charts\"\n",
              "            style=\"display:none;\">\n",
              "\n",
              "<svg xmlns=\"http://www.w3.org/2000/svg\" height=\"24px\"viewBox=\"0 0 24 24\"\n",
              "     width=\"24px\">\n",
              "    <g>\n",
              "        <path d=\"M19 3H5c-1.1 0-2 .9-2 2v14c0 1.1.9 2 2 2h14c1.1 0 2-.9 2-2V5c0-1.1-.9-2-2-2zM9 17H7v-7h2v7zm4 0h-2V7h2v10zm4 0h-2v-4h2v4z\"/>\n",
              "    </g>\n",
              "</svg>\n",
              "  </button>\n",
              "\n",
              "<style>\n",
              "  .colab-df-quickchart {\n",
              "      --bg-color: #E8F0FE;\n",
              "      --fill-color: #1967D2;\n",
              "      --hover-bg-color: #E2EBFA;\n",
              "      --hover-fill-color: #174EA6;\n",
              "      --disabled-fill-color: #AAA;\n",
              "      --disabled-bg-color: #DDD;\n",
              "  }\n",
              "\n",
              "  [theme=dark] .colab-df-quickchart {\n",
              "      --bg-color: #3B4455;\n",
              "      --fill-color: #D2E3FC;\n",
              "      --hover-bg-color: #434B5C;\n",
              "      --hover-fill-color: #FFFFFF;\n",
              "      --disabled-bg-color: #3B4455;\n",
              "      --disabled-fill-color: #666;\n",
              "  }\n",
              "\n",
              "  .colab-df-quickchart {\n",
              "    background-color: var(--bg-color);\n",
              "    border: none;\n",
              "    border-radius: 50%;\n",
              "    cursor: pointer;\n",
              "    display: none;\n",
              "    fill: var(--fill-color);\n",
              "    height: 32px;\n",
              "    padding: 0;\n",
              "    width: 32px;\n",
              "  }\n",
              "\n",
              "  .colab-df-quickchart:hover {\n",
              "    background-color: var(--hover-bg-color);\n",
              "    box-shadow: 0 1px 2px rgba(60, 64, 67, 0.3), 0 1px 3px 1px rgba(60, 64, 67, 0.15);\n",
              "    fill: var(--button-hover-fill-color);\n",
              "  }\n",
              "\n",
              "  .colab-df-quickchart-complete:disabled,\n",
              "  .colab-df-quickchart-complete:disabled:hover {\n",
              "    background-color: var(--disabled-bg-color);\n",
              "    fill: var(--disabled-fill-color);\n",
              "    box-shadow: none;\n",
              "  }\n",
              "\n",
              "  .colab-df-spinner {\n",
              "    border: 2px solid var(--fill-color);\n",
              "    border-color: transparent;\n",
              "    border-bottom-color: var(--fill-color);\n",
              "    animation:\n",
              "      spin 1s steps(1) infinite;\n",
              "  }\n",
              "\n",
              "  @keyframes spin {\n",
              "    0% {\n",
              "      border-color: transparent;\n",
              "      border-bottom-color: var(--fill-color);\n",
              "      border-left-color: var(--fill-color);\n",
              "    }\n",
              "    20% {\n",
              "      border-color: transparent;\n",
              "      border-left-color: var(--fill-color);\n",
              "      border-top-color: var(--fill-color);\n",
              "    }\n",
              "    30% {\n",
              "      border-color: transparent;\n",
              "      border-left-color: var(--fill-color);\n",
              "      border-top-color: var(--fill-color);\n",
              "      border-right-color: var(--fill-color);\n",
              "    }\n",
              "    40% {\n",
              "      border-color: transparent;\n",
              "      border-right-color: var(--fill-color);\n",
              "      border-top-color: var(--fill-color);\n",
              "    }\n",
              "    60% {\n",
              "      border-color: transparent;\n",
              "      border-right-color: var(--fill-color);\n",
              "    }\n",
              "    80% {\n",
              "      border-color: transparent;\n",
              "      border-right-color: var(--fill-color);\n",
              "      border-bottom-color: var(--fill-color);\n",
              "    }\n",
              "    90% {\n",
              "      border-color: transparent;\n",
              "      border-bottom-color: var(--fill-color);\n",
              "    }\n",
              "  }\n",
              "</style>\n",
              "\n",
              "  <script>\n",
              "    async function quickchart(key) {\n",
              "      const quickchartButtonEl =\n",
              "        document.querySelector('#' + key + ' button');\n",
              "      quickchartButtonEl.disabled = true;  // To prevent multiple clicks.\n",
              "      quickchartButtonEl.classList.add('colab-df-spinner');\n",
              "      try {\n",
              "        const charts = await google.colab.kernel.invokeFunction(\n",
              "            'suggestCharts', [key], {});\n",
              "      } catch (error) {\n",
              "        console.error('Error during call to suggestCharts:', error);\n",
              "      }\n",
              "      quickchartButtonEl.classList.remove('colab-df-spinner');\n",
              "      quickchartButtonEl.classList.add('colab-df-quickchart-complete');\n",
              "    }\n",
              "    (() => {\n",
              "      let quickchartButtonEl =\n",
              "        document.querySelector('#df-eac8e266-abbc-4a84-9f08-b33d80c0ba25 button');\n",
              "      quickchartButtonEl.style.display =\n",
              "        google.colab.kernel.accessAllowed ? 'block' : 'none';\n",
              "    })();\n",
              "  </script>\n",
              "</div>\n",
              "    </div>\n",
              "  </div>\n"
            ],
            "text/plain": [
              "   product_id                                              title  \\\n",
              "0  1618806578  Shirley Temple Pastime book 1935 Saalfield Pub...   \n",
              "2   694926553  Vintage Children's Book and Record, Little Gol...   \n",
              "3  1524591637  You're in Love, Charlie Brown - Charles M. Sch...   \n",
              "4  1633806231  The Children of the Frostmoor: A Swedish story...   \n",
              "7  1090130977  NODDY meets Santa hardback Christmas book Chil...   \n",
              "\n",
              "                                         description  \\\n",
              "0  Shirley Temple Pastime book 1935 Saalfield Pub...   \n",
              "2  Vintage children&#39;s book and record. 24 pag...   \n",
              "3  You&#39;re in Love, Charlie Brown \\nCharles M....   \n",
              "4  The Children of the Frostmoor \\nA Swedish  Sto...   \n",
              "7  Vintage NODDY meets Santa hardback Christmas b...   \n",
              "\n",
              "                                                tags      type room  \\\n",
              "0             child,childrens book,hardcover,vintage  physical        \n",
              "2  puss in boots,cat,classic,disney,disneyland,vi...  physical        \n",
              "3  collectible books,gifts for readers,gift ideas...  physical        \n",
              "4  Children  Frostmoor,Laura Fitinghoff,Rosa Peth...  physical        \n",
              "7  Noddy,Father Christmas,Christmas book,Noddy bo...  physical        \n",
              "\n",
              "  craft_type recipient material  occasion  ...  \\\n",
              "0                                          ...   \n",
              "2                                birthday  ...   \n",
              "3                                          ...   \n",
              "4                                birthday  ...   \n",
              "7                                          ...   \n",
              "\n",
              "                           bottom_category_text top_category_id  \\\n",
              "0  books_movies_and_music.books.childrens_books               4   \n",
              "2  books_movies_and_music.books.childrens_books               4   \n",
              "3  books_movies_and_music.books.childrens_books               4   \n",
              "4  books_movies_and_music.books.childrens_books               4   \n",
              "7  books_movies_and_music.books.childrens_books               4   \n",
              "\n",
              "        top_category_text primary_color_id primary_color_text  \\\n",
              "0  books_movies_and_music               10             orange   \n",
              "2  books_movies_and_music                9              green   \n",
              "3  books_movies_and_music                2               blue   \n",
              "4  books_movies_and_music               14                red   \n",
              "7  books_movies_and_music               18             yellow   \n",
              "\n",
              "   secondary_color_id secondary_color_text  \\\n",
              "0                  13              rainbow   \n",
              "2                  13              rainbow   \n",
              "3                  14                  red   \n",
              "4                  17                white   \n",
              "7                  14                  red   \n",
              "\n",
              "                                       image/encoded image/width  image/height  \n",
              "0  b'\\xff\\xd8\\xff\\xe0\\x00\\x10JFIF\\x00\\x01\\x01\\x00...         570           760  \n",
              "2  b'\\xff\\xd8\\xff\\xe0\\x00\\x10JFIF\\x00\\x01\\x01\\x00...         570           763  \n",
              "3  b'\\xff\\xd8\\xff\\xe0\\x00\\x10JFIF\\x00\\x01\\x01\\x00...         570           427  \n",
              "4  b'\\xff\\xd8\\xff\\xe0\\x00\\x10JFIF\\x00\\x01\\x01\\x00...         570           760  \n",
              "7  b'\\xff\\xd8\\xff\\xe0\\x00\\x10JFIF\\x00\\x01\\x01\\x00...         570           570  \n",
              "\n",
              "[5 rows x 26 columns]"
            ]
          },
          "execution_count": 13,
          "metadata": {},
          "output_type": "execute_result"
        }
      ],
      "source": [
        "import html\n",
        "df = data\n",
        "sp = r'[^\\w\\s]'  # Matches any character that is not a word character or whitespace\n",
        "sp_pattern = r'\\s'  # Matching the whitespace character\n",
        "\n",
        "# Remove special characters and spaces from the specified column\n",
        "df['title'] = df['title'].apply(html.unescape)\n",
        "df['title'] = df['title'].str.replace(sp, '')\n",
        "df['title'] = df['title'].str.replace(sp_pattern, '')\n",
        "\n",
        "\n",
        "df.head()"
      ]
    },
    {
      "cell_type": "code",
      "execution_count": null,
      "metadata": {
        "colab": {
          "base_uri": "https://localhost:8080/"
        },
        "id": "RbIQqSknlxH5",
        "outputId": "effb0705-ffe5-496d-8725-8156da5d0481"
      },
      "outputs": [
        {
          "name": "stdout",
          "output_type": "stream",
          "text": [
            "<class 'pandas.core.frame.DataFrame'>\n",
            "RangeIndex: 8 entries, 0 to 7\n",
            "Data columns (total 18 columns):\n",
            " #   Column         Non-Null Count  Dtype \n",
            "---  ------         --------------  ----- \n",
            " 0   product_id     8 non-null      int64 \n",
            " 1   title          8 non-null      object\n",
            " 2   description    8 non-null      object\n",
            " 3   tags           8 non-null      object\n",
            " 4   type           8 non-null      object\n",
            " 5   room           8 non-null      object\n",
            " 6   craft_type     8 non-null      object\n",
            " 7   recipient      8 non-null      object\n",
            " 8   material       8 non-null      object\n",
            " 9   occasion       8 non-null      object\n",
            " 10  holiday        8 non-null      object\n",
            " 11  art_subject    8 non-null      object\n",
            " 12  style          8 non-null      object\n",
            " 13  shape          8 non-null      object\n",
            " 14  pattern        8 non-null      object\n",
            " 15  image/encoded  8 non-null      object\n",
            " 16  image/width    8 non-null      int64 \n",
            " 17  image/height   8 non-null      int64 \n",
            "dtypes: int64(3), object(15)\n",
            "memory usage: 1.2+ KB\n"
          ]
        }
      ],
      "source": [
        "df.info()"
      ]
    },
    {
      "cell_type": "code",
      "execution_count": null,
      "metadata": {
        "colab": {
          "base_uri": "https://localhost:8080/"
        },
        "id": "r6aM0kWbG3Al",
        "outputId": "8cf016a4-3633-4655-b342-53c65e9e9e4b"
      },
      "outputs": [
        {
          "name": "stdout",
          "output_type": "stream",
          "text": [
            "[ 4  5  8  3  2  6 14  0 11 13  9 12  7 10  1]\n"
          ]
        },
        {
          "data": {
            "text/plain": [
              "array(['books_movies_and_music', 'clothing', 'home_and_living',\n",
              "       'bath_and_beauty', 'bags_and_purses', 'craft_supplies_and_tools',\n",
              "       'weddings', 'accessories', 'pet_supplies', 'toys_and_games',\n",
              "       'jewelry', 'shoes', 'electronics_and_accessories',\n",
              "       'paper_and_party_supplies', 'art_and_collectibles'], dtype=object)"
            ]
          },
          "execution_count": 26,
          "metadata": {},
          "output_type": "execute_result"
        }
      ],
      "source": [
        "#seeking the unique values for \"category id\" and \"text\"\n",
        "print(data['top_category_id'].unique())\n",
        "data['top_category_text'].unique()"
      ]
    },
    {
      "cell_type": "code",
      "execution_count": null,
      "metadata": {
        "colab": {
          "base_uri": "https://localhost:8080/"
        },
        "id": "k31EKCvMG5xG",
        "outputId": "c0af08ac-fa89-47e9-be01-09fb8dead73d"
      },
      "outputs": [
        {
          "data": {
            "text/plain": [
              "type\n",
              "physical    188129\n",
              "download     10138\n",
              "               186\n",
              "Name: count, dtype: int64"
            ]
          },
          "execution_count": 27,
          "metadata": {},
          "output_type": "execute_result"
        }
      ],
      "source": [
        "data.iloc[0]\n",
        "data.head(2)\n",
        "data['type'].unique() # column's  values of column\n",
        "data['type'].value_counts(dropna=False)\n"
      ]
    },
    {
      "cell_type": "code",
      "execution_count": null,
      "metadata": {
        "colab": {
          "base_uri": "https://localhost:8080/",
          "height": 36
        },
        "id": "DVYQxEdSHCU-",
        "outputId": "9e4f02f4-1ff1-4266-ef34-2b118a5d4a23"
      },
      "outputs": [
        {
          "data": {
            "application/vnd.google.colaboratory.intrinsic+json": {
              "type": "string"
            },
            "text/plain": [
              "'Number of top categories in train: 15'"
            ]
          },
          "execution_count": 30,
          "metadata": {},
          "output_type": "execute_result"
        }
      ],
      "source": [
        "\n",
        "COLORS = data['primary_color_id'].unique()\n",
        "NUM_COLORS = len(COLORS)\n",
        "\n",
        "f\"Number of top categories in train: {len(data['top_category_text'].unique()):,}\""
      ]
    },
    {
      "cell_type": "code",
      "execution_count": null,
      "metadata": {
        "colab": {
          "base_uri": "https://localhost:8080/",
          "height": 36
        },
        "id": "fSGSYyoKHkhC",
        "outputId": "99b556ab-c473-4e12-bf74-f5dd3d29928d"
      },
      "outputs": [
        {
          "data": {
            "application/vnd.google.colaboratory.intrinsic+json": {
              "type": "string"
            },
            "text/plain": [
              "'Number of primary colors in train: 19'"
            ]
          },
          "execution_count": 31,
          "metadata": {},
          "output_type": "execute_result"
        }
      ],
      "source": [
        "f\"Number of primary colors in train: {NUM_COLORS:,}\""
      ]
    },
    {
      "cell_type": "code",
      "execution_count": null,
      "metadata": {
        "colab": {
          "base_uri": "https://localhost:8080/"
        },
        "id": "sfbDTIwVHucp",
        "outputId": "a6b79cbb-b240-4702-c191-2228a0280cb6"
      },
      "outputs": [
        {
          "data": {
            "text/plain": [
              "top_category_text\n",
              "home_and_living                46966\n",
              "craft_supplies_and_tools       29296\n",
              "clothing                       25400\n",
              "toys_and_games                 11943\n",
              "paper_and_party_supplies       10975\n",
              "accessories                    10698\n",
              "bath_and_beauty                 9431\n",
              "weddings                        8805\n",
              "art_and_collectibles            7718\n",
              "shoes                           7712\n",
              "jewelry                         6768\n",
              "electronics_and_accessories     6650\n",
              "books_movies_and_music          5634\n",
              "bags_and_purses                 5319\n",
              "pet_supplies                    5138\n",
              "Name: count, dtype: int64"
            ]
          },
          "execution_count": 32,
          "metadata": {},
          "output_type": "execute_result"
        }
      ],
      "source": [
        "#Sum of number of all occurences of top category text\n",
        "pd.value_counts(data['top_category_text'], ascending=False,sort=True )"
      ]
    },
    {
      "cell_type": "code",
      "execution_count": null,
      "metadata": {
        "colab": {
          "base_uri": "https://localhost:8080/"
        },
        "id": "VaVyAcq1H6ER",
        "outputId": "12af884e-e819-4a98-8954-8e4f3f977aa0"
      },
      "outputs": [
        {
          "data": {
            "text/plain": [
              "primary_color_text\n",
              "black        26841\n",
              "white        24614\n",
              "blue         23661\n",
              "brown        17187\n",
              "red          14044\n",
              "pink         13909\n",
              "green        13405\n",
              "beige        10175\n",
              "silver        9542\n",
              "gold          8526\n",
              "other         7226\n",
              "yellow        6354\n",
              "purple        5923\n",
              "orange        4905\n",
              "clear         3956\n",
              "rainbow       3658\n",
              "bronze        2128\n",
              "copper        1656\n",
              "rose gold      743\n",
              "Name: count, dtype: int64"
            ]
          },
          "execution_count": 34,
          "metadata": {},
          "output_type": "execute_result"
        }
      ],
      "source": [
        "#Sum of number of all occurences of primary color text\n",
        "pd.value_counts(data['primary_color_text'], sort=True, ascending=False)"
      ]
    },
    {
      "cell_type": "code",
      "execution_count": null,
      "metadata": {
        "colab": {
          "base_uri": "https://localhost:8080/",
          "height": 347
        },
        "id": "2WT43Ea1IBJ-",
        "outputId": "4c104616-51a7-4aa0-e959-37648000e3f2"
      },
      "outputs": [
        {
          "data": {
            "image/png": "[encoded data removed]",
            "text/plain": [
              "<Figure size 1500x600 with 1 Axes>"
            ]
          },
          "metadata": {},
          "output_type": "display_data"
        }
      ],
      "source": [
        "#all products per category\n",
        "import matplotlib.pyplot as plt\n",
        "figsize = (15, 6)\n",
        "column = 'top_category_text'\n",
        "x_limit = 60000\n",
        "x_step = 10000\n",
        "color = 'darkcyan'\n",
        "\n",
        "figure, ax = plt.subplots(figsize=figsize)\n",
        "pd.value_counts(combined_df[column], sort=True, ascending=False).plot.barh(color=color)\n",
        "plt.title(f\"Number of Products per Category\")\n",
        "xlabels = [f'{x // 1000:,}K' for x in range(0, x_limit, x_step)]\n",
        "plt.xticks(range(0, x_limit, x_step), xlabels)\n",
        "plt.xlabel('Number of products')\n",
        "plt.setp(ax.get_xticklabels()[0], visible=False)\n",
        "plt.show()"
      ]
    },
    {
      "cell_type": "code",
      "execution_count": null,
      "metadata": {
        "id": "HLqddJ0eJuTS"
      },
      "outputs": [],
      "source": [
        "import os\n",
        "from datetime import datetime\n",
        "import numpy as np\n",
        "import tensorflow as tf\n",
        "import matplotlib.pyplot as plt\n",
        "import matplotlib.image as mpimg\n",
        "from PIL import Image\n",
        "from tensorflow.keras.applications import MobileNetV3Small\n",
        "from tensorflow.keras.preprocessing import image\n",
        "from tensorflow.keras.models import Model\n",
        "from tensorflow.keras.layers import Dense, GlobalAveragePooling2D\n",
        "from sklearn import metrics\n",
        "import glob\n",
        "\n",
        "\n",
        "font = { 'family': 'DejaVu Sans', 'weight': 'bold', 'size': 16 }\n",
        "plt.rc('font', **font)"
      ]
    },
    {
      "cell_type": "code",
      "execution_count": null,
      "metadata": {
        "id": "-0d1FGDiIyIx"
      },
      "outputs": [],
      "source": [
        "def show_images(dataframe, N=100):\n",
        "    num_cols = 5\n",
        "    num_rows = N // num_cols\n",
        "    plt_height = 3 * num_rows\n",
        "    plt.figure(figsize=(12, plt_height))\n",
        "    for i, row in dataframe[:N].iterrows():\n",
        "        # axis\n",
        "        ax = plt.subplot(num_rows, num_cols, i + 1)\n",
        "        # data\n",
        "        img_bytes = row[\"image/encoded\"]\n",
        "        label = row[\"top_category_text\"] if \"top_category_text\" in row else \"unknown\"\n",
        "        # image\n",
        "        bytes_io = io.BytesIO(img_bytes)\n",
        "        image = Image.open(bytes_io)\n",
        "        # plot\n",
        "        plt.xticks([])\n",
        "        plt.yticks([])\n",
        "        plt.grid(False)\n",
        "        plt.imshow(image)\n",
        "        plt.xlabel(label, fontsize = 12)\n",
        "    plt.show()"
      ]
    },
    {
      "cell_type": "code",
      "execution_count": null,
      "metadata": {
        "id": "KQUeH2DZa1_M"
      },
      "outputs": [],
      "source": [
        "import pyarrow.parquet as pp\n",
        "import os\n",
        "import pandas as pd\n",
        "\n",
        "#  directory having the Parquet files\n",
        "loc = '/content/drive/MyDrive/data/test'\n",
        "\n",
        "# List of  all the Parquet files in the directory\n",
        "pf = [f for f in os.listdir(loc) if f.endswith('.parquet')]\n",
        "\n",
        "dataframes = []\n",
        "\n",
        "# Looping  each Parquet file and appending  to the list\n",
        "for f in pf:\n",
        "    fp = os.path.join(directory, f)\n",
        "    d = pp.read_table(fp).to_pandas()\n",
        "    dataframes.append(d)\n",
        "\n",
        " testing_dataframe = pd.concat(dataframes, ignore_index=True)"
      ]
    },
    {
      "cell_type": "code",
      "execution_count": null,
      "metadata": {
        "colab": {
          "base_uri": "https://localhost:8080/"
        },
        "id": "Jh9UEKPtR8vT",
        "outputId": "6a154f72-5c78-4f10-e5ea-a692f0f464b9"
      },
      "outputs": [
        {
          "data": {
            "text/plain": [
              "(25514, 18)"
            ]
          },
          "execution_count": 3,
          "metadata": {},
          "output_type": "execute_result"
        }
      ],
      "source": [
        "df.shape\n",
        "testing_dataframe.shape"
      ]
    },
    {
      "cell_type": "markdown",
      "metadata": {
        "id": "MrRy7lzpMIr_"
      },
      "source": [
        "**Random Forest employed to predict Top Category ID**"
      ]
    },
    {
      "cell_type": "code",
      "execution_count": null,
      "metadata": {
        "colab": {
          "base_uri": "https://localhost:8080/"
        },
        "id": "f16rIkKRMR51",
        "outputId": "a69bee5a-300f-4856-ce66-ccc09770a0e6"
      },
      "outputs": [
        {
          "name": "stdout",
          "output_type": "stream",
          "text": [
            "Validation Accuracy: 0.8470182157164092\n"
          ]
        }
      ],
      "source": [
        "from sklearn.model_selection import train_test_split\n",
        "from sklearn.ensemble import RandomForestClassifier\n",
        "from sklearn.metrics import accuracy_score\n",
        "from sklearn.feature_extraction.text import TfidfVectorizer\n",
        "from sklearn.preprocessing import OneHotEncoder\n",
        "from sklearn.compose import ColumnTransformer\n",
        "from sklearn.pipeline import Pipeline\n",
        "import numpy as np\n",
        "import pandas as pd\n",
        "\n",
        "attributes = ['title', 'tags', 'type']\n",
        "targeted_value = 'top_category_id'\n",
        "\n",
        "\n",
        "X = data[attributes]\n",
        "y = data[targeted_value]\n",
        "\n",
        "category_columns = [columns for columns in attributes if data[columns].dtype == \"object\"]\n",
        "text = ['tags','title']\n",
        "\n",
        "# Calculating TF and IDF for title and tags\n",
        "preprocessor = ColumnTransformer(\n",
        "    transformers=[\n",
        "        ('category', OneHotEncoder(handle_unknown='ignore'), category_columns),\n",
        "        ('titletext', TfidfVectorizer(max_features=10000), 'title'),\n",
        "        ('itemtags', TfidfVectorizer(max_features=10000), 'tags')\n",
        "    ],\n",
        "    remainder='passthrough'\n",
        ")\n",
        "\n",
        "X_training, X_value, y_training, y_value = train_test_split(X, y, test_size=0.2, random_state=42)\n",
        "\n",
        "# Using RandomForestClassifier directly for single output classification\n",
        "randomforest_model = RandomForestClassifier(n_estimators=100)\n",
        "\n",
        "pipeline = Pipeline(steps=[('preprocessor', preprocessor), ('model', randomforest_model)])\n",
        "\n",
        "pipeline.fit(X_training, y_training)\n",
        "\n",
        "predicted_y = pipeline.predict(X_value)\n",
        "\n",
        "# Evaluating accuracy\n",
        "accuracy_score = accuracy_score(y_value, predicted_y)\n",
        "\n",
        "print(f\"Validation Accuracy: {accuracy_score}\")"
      ]
    },
    {
      "cell_type": "code",
      "execution_count": null,
      "metadata": {
        "id": "CUq4hqfMbmKw"
      },
      "outputs": [],
      "source": [
        "# Prediction on test data\n",
        "predictions_top_category = pipeline.predict(testing_dataframe[attributes])"
      ]
    },
    {
      "cell_type": "code",
      "execution_count": null,
      "metadata": {
        "id": "BUaD4-eXJDKH"
      },
      "outputs": [],
      "source": []
    },
    {
      "cell_type": "code",
      "execution_count": null,
      "metadata": {
        "colab": {
          "base_uri": "https://localhost:8080/"
        },
        "id": "ObRw-kEIb4X8",
        "outputId": "a9a401e4-260b-47e5-8878-f8f4a04df6c0"
      },
      "outputs": [
        {
          "name": "stdout",
          "output_type": "stream",
          "text": [
            "Validation F1 Score: 0.8429677820951846\n"
          ]
        }
      ],
      "source": [
        "from sklearn.metrics import accuracy_score, f1_score\n",
        "# Calculating the F1 score\n",
        "f1score = f1_score(y_value, predicted_y,average='weighted')\n",
        "\n",
        "print(f\"Validation F1 Score: {f1score}\")"
      ]
    },
    {
      "cell_type": "code",
      "execution_count": null,
      "metadata": {
        "id": "udkueR4YcF8O"
      },
      "outputs": [],
      "source": [
        "testing_dataframe['top_category_id']=predictions_top_category"
      ]
    },
    {
      "cell_type": "markdown",
      "metadata": {
        "id": "ejjBD11dGJje"
      },
      "source": [
        "**Predicting the Primary Color ID**"
      ]
    },
    {
      "cell_type": "code",
      "execution_count": null,
      "metadata": {
        "colab": {
          "base_uri": "https://localhost:8080/"
        },
        "id": "9qTwjngwguUd",
        "outputId": "3a1b1759-be9d-4191-fe41-c1c56de03a2f"
      },
      "outputs": [
        {
          "name": "stdout",
          "output_type": "stream",
          "text": [
            "Model: \"sequential\"\n",
            "_________________________________________________________________\n",
            " Layer (type)                Output Shape              Param #   \n",
            "=================================================================\n",
            " embedding (Embedding)       (None, 86, 100)           12709200  \n",
            "                                                                 \n",
            " conv1d (Conv1D)             (None, 77, 60)            60060     \n",
            "                                                                 \n",
            " max_pooling1d (MaxPooling1  (None, 38, 60)            0         \n",
            " D)                                                              \n",
            "                                                                 \n",
            " dropout (Dropout)           (None, 38, 60)            0         \n",
            "                                                                 \n",
            " lstm (LSTM)                 (None, 60)                29040     \n",
            "                                                                 \n",
            " dense (Dense)               (None, 30)                1830      \n",
            "                                                                 \n",
            " dropout_1 (Dropout)         (None, 30)                0         \n",
            "                                                                 \n",
            " dense_1 (Dense)             (None, 19)                589       \n",
            "                                                                 \n",
            "=================================================================\n",
            "Total params: 12800719 (48.83 MB)\n",
            "Trainable params: 12800719 (48.83 MB)\n",
            "Non-trainable params: 0 (0.00 Byte)\n",
            "_________________________________________________________________\n",
            "Epoch 1/10\n",
            "2481/2481 [==============================] - 399s 160ms/step - loss: 2.2324 - accuracy: 0.3426 - val_loss: 1.8855 - val_accuracy: 0.4446\n",
            "Epoch 2/10\n",
            "2481/2481 [==============================] - 403s 162ms/step - loss: 1.8899 - accuracy: 0.4605 - val_loss: 1.7789 - val_accuracy: 0.4871\n",
            "Epoch 3/10\n",
            "2481/2481 [==============================] - 404s 163ms/step - loss: 1.7144 - accuracy: 0.5161 - val_loss: 1.7703 - val_accuracy: 0.4911\n",
            "Epoch 4/10\n",
            "2481/2481 [==============================] - 405s 163ms/step - loss: 1.5684 - accuracy: 0.5610 - val_loss: 1.8052 - val_accuracy: 0.4893\n",
            "Epoch 5/10\n",
            "2481/2481 [==============================] - 407s 164ms/step - loss: 1.4333 - accuracy: 0.5998 - val_loss: 1.8799 - val_accuracy: 0.4915\n",
            "Epoch 6/10\n",
            "2481/2481 [==============================] - 405s 163ms/step - loss: 1.3197 - accuracy: 0.6319 - val_loss: 1.9938 - val_accuracy: 0.4840\n",
            "1241/1241 [==============================] - 10s 8ms/step - loss: 1.7703 - accuracy: 0.4911\n",
            "Test Accuracy: 0.4910685122013092\n",
            "1241/1241 [==============================] - 10s 8ms/step\n",
            "Test F1 Score: 0.4775336735080206\n"
          ]
        }
      ],
      "source": [
        "import pandas as pd\n",
        "import numpy as np\n",
        "from sklearn.model_selection import train_test_split\n",
        "from sklearn.preprocessing import LabelEncoder\n",
        "from sklearn.metrics import f1_score\n",
        "from tensorflow.keras.preprocessing.text import Tokenizer\n",
        "from tensorflow.keras.preprocessing.sequence import pad_sequences\n",
        "from tensorflow.keras.models import Sequential\n",
        "from tensorflow.keras.layers import Dense, Embedding, Conv1D, MaxPooling1D, LSTM, Flatten, Dropout\n",
        "from tensorflow.keras.callbacks import EarlyStopping\n",
        "from tensorflow.keras.optimizers import Adam\n",
        "\n",
        "#  text data preprocessing\n",
        "token = Tokenizer()\n",
        "texts =data['title'] + ' ' + data['tags']  # Combine title and tags into a single string\n",
        "token.fit_on_texts(texts)\n",
        "X = token.texts_to_sequences(texts)\n",
        "X = pad_sequences(X)  # Ensure all sequences have the same length\n",
        "\n",
        "#  target variable encoding\n",
        "encoder = LabelEncoder()\n",
        "y = encoder.fit_transform(data['primary_color_id'])\n",
        "\n",
        "#  train and test sets data splitting\n",
        "X_train, X_test, y_train, y_test = train_test_split(X, y, test_size=0.2, random_state=42)\n",
        "\n",
        "# Define the neural network architecture with added dropout for regularization\n",
        "model = Sequential()\n",
        "model.add(Embedding(input_dim=len(token.word_index) + 1, output_dim=100, input_length=X.shape[1]))\n",
        "model.add(Conv1D(60, 10, activation='relu'))\n",
        "model.add(MaxPooling1D(pool_size=2))\n",
        "model.add(Dropout(0.5))  # Dropout layer added to prevent overfitting\n",
        "model.add(LSTM(60))\n",
        "model.add(Dense(30, activation='relu'))\n",
        "model.add(Dropout(0.5))  # Another dropout layer\n",
        "model.add(Dense(19, activation='softmax'))\n",
        "\n",
        "# Compile the model with a more suitable optimizer and learning rate\n",
        "model.compile(optimizer=Adam(learning_rate=0.001), loss='sparse_categorical_crossentropy', metrics=['accuracy'])\n",
        "model.summary()\n",
        "\n",
        "# Early stopping to prevent overfitting\n",
        "early_stopping = EarlyStopping(monitor='val_loss', patience=3, restore_best_weights=True)\n",
        "\n",
        "# Train the model with validation data and early stopping\n",
        "history = model.fit(X_train, y_train, epochs=10, batch_size=64, validation_data=(X_test, y_test), callbacks=[early_stopping])\n",
        "\n",
        "# Evaluate the model\n",
        "loss, model_accuracy = model.evaluate(X_test, y_test)\n",
        "print(\"Test Accuracy:\", model_accuracy)\n",
        "\n",
        "# Calculate the F1 score\n",
        "y_pred = np.argmax(model.predict(X_test), axis=1)  # Get the index of the max probability\n",
        "f1score = f1_score(y_test, y_pred, average='weighted')  # 'weighted' takes into consideration label imbalance\n",
        "print(\"Test F1 Score:\", f1score)\n"
      ]
    },
    {
      "cell_type": "code",
      "execution_count": null,
      "metadata": {
        "colab": {
          "base_uri": "https://localhost:8080/"
        },
        "id": "5FBIusFlFA3r",
        "outputId": "c2866d62-066c-43c7-fd3a-4a5d81204a5a"
      },
      "outputs": [
        {
          "name": "stdout",
          "output_type": "stream",
          "text": [
            "798/798 [==============================] - 6s 8ms/step\n",
            "Predicted primary_color_id: [13  1  4 ...  4  7  4]\n"
          ]
        }
      ],
      "source": [
        "# Predicting new data\n",
        "Z = token.texts_to_sequences(testing_dataframe['title'] + ' ' + testing_dataframe['tags'])\n",
        "Z = pad_sequences(Z, maxlen=X.shape[1])\n",
        "predicted_probabilities = model.predict(Z)\n",
        "predicted_color_id = np.argmax(predicted_probabilities, axis=1)  # Use np.argmax to find the class index\n",
        "print(\"Predicted primary_color_id:\", predicted_color_id)"
      ]
    },
    {
      "cell_type": "code",
      "execution_count": null,
      "metadata": {
        "id": "nq2XbFEiFXtz"
      },
      "outputs": [],
      "source": [
        "testing_dataframe['primary_color_id']=predicted_color_id"
      ]
    },
    {
      "cell_type": "markdown",
      "metadata": {
        "id": "XVzdx6potcAe"
      },
      "source": [
        "**Predicting Bottom Category ID **"
      ]
    },
    {
      "cell_type": "code",
      "execution_count": null,
      "metadata": {
        "colab": {
          "base_uri": "https://localhost:8080/"
        },
        "id": "LYsx-cIEthCY",
        "outputId": "04db0dc5-3521-44d2-f265-7d197d35698d"
      },
      "outputs": [
        {
          "name": "stdout",
          "output_type": "stream",
          "text": [
            "Validation Accuracy: 0.6321332291955355\n"
          ]
        }
      ],
      "source": [
        "from sklearn.model_selection import train_test_split\n",
        "from sklearn.ensemble import RandomForestClassifier\n",
        "from sklearn.metrics import accuracy_score\n",
        "from sklearn.feature_extraction.text import TfidfVectorizer\n",
        "from sklearn.preprocessing import OneHotEncoder\n",
        "from sklearn.compose import ColumnTransformer\n",
        "from sklearn.pipeline import Pipeline\n",
        "import numpy as np\n",
        "import pandas as pd\n",
        "\n",
        "\n",
        "\n",
        "attributes = ['title', 'tags']\n",
        "target_id = 'bottom_category_id'  # single target variable prediction\n",
        "\n",
        "\n",
        "X = df[attributes]\n",
        "y = df[target_id]\n",
        "\n",
        "category_columns = [i for i in attributes if data[i].dtype == \"object\"]\n",
        "text_cols = ['title', 'tags']  # including tags in text\n",
        "\n",
        "# Adjusting preprocessor\n",
        "preprocessor = ColumnTransformer(\n",
        "    transformers=[\n",
        "        ('cat', OneHotEncoder(handle_unknown='ignore'), category_columns),\n",
        "        ('text_title', TfidfVectorizer(max_features=10000), 'title'),\n",
        "        ('text_tags', TfidfVectorizer(max_features=10000), 'tags')\n",
        "    ],\n",
        "    remainder='passthrough'\n",
        ")\n",
        "\n",
        "X_training, X_value, y_training, y_validation = train_test_split(X, y, test_size=0.2, random_state=42)\n",
        "\n",
        "# Using RandomForestClassifier\n",
        "model_rfc = RandomForestClassifier(n_estimators=100)\n",
        "\n",
        "pipeline = Pipeline(steps=[('preprocessor', preprocessor), ('model', model_rfc)])\n",
        "\n",
        "pipeline.fit(X_training, y_training)\n",
        "\n",
        "y_prediction = pipeline.predict(X_value)\n",
        "\n",
        "#  accuracy evaluation\n",
        "model_accuracy = accuracy_score(y_value, y_prediction)\n",
        "\n",
        "print(f\"Validation Accuracy: {model_accuracy}\")"
      ]
    },
    {
      "cell_type": "code",
      "execution_count": null,
      "metadata": {
        "colab": {
          "base_uri": "https://localhost:8080/"
        },
        "id": "HjNg4yvV8Kf5",
        "outputId": "3629e7cd-178b-40c6-abf6-7b200d3f6653"
      },
      "outputs": [
        {
          "data": {
            "text/plain": [
              "(25514, 18)"
            ]
          },
          "execution_count": 7,
          "metadata": {},
          "output_type": "execute_result"
        }
      ],
      "source": [
        "testing_dataframe = pd.read_parquet(parquet_file_path)"
      ]
    },
    {
      "cell_type": "code",
      "execution_count": null,
      "metadata": {
        "id": "FCB7v0cf72in"
      },
      "outputs": [],
      "source": [
        "# Prediction on test data\n",
        "top_category_predictions = pipeline.predict(testing_dataframe[attributes])"
      ]
    },
    {
      "cell_type": "code",
      "execution_count": null,
      "metadata": {
        "colab": {
          "base_uri": "https://localhost:8080/"
        },
        "id": "_Uw-QrbV9Luf",
        "outputId": "f0daa0b5-312c-4415-a292-d50113bded94"
      },
      "outputs": [
        {
          "name": "stdout",
          "output_type": "stream",
          "text": [
            "Validation F1 Score: 0.6152373879814419\n"
          ]
        }
      ],
      "source": [
        "from sklearn.metrics import accuracy_score, f1_score\n",
        "#  F1 score calculation\n",
        "f1score = f1_score(y_validation, y_prediction,average='weighted')\n",
        "\n",
        "print(f\"Validation F1 Score: {f1score}\")"
      ]
    },
    {
      "cell_type": "code",
      "execution_count": null,
      "metadata": {
        "id": "0iOW1UCD9P8-"
      },
      "outputs": [],
      "source": [
        "testing_dataframe['bottom_category_id']=top_category_predictions"
      ]
    },
    {
      "cell_type": "code",
      "execution_count": null,
      "metadata": {
        "id": "8a1oe5fo--4K"
      },
      "outputs": [],
      "source": [
        "import pandas as pd\n",
        "all_df = pd.read_parquet('/content/drive/MyDrive/data/test_cat_pcid_id.parquet')\n",
        "bot_df = pd.read_parquet('/content/drive/MyDrive/data/test_bot_id.parquet')"
      ]
    },
    {
      "cell_type": "code",
      "execution_count": null,
      "metadata": {
        "id": "bWW3Jl9jAVHS"
      },
      "outputs": [],
      "source": [
        "all_df['bottom_category_id']=bot_df['bottom_category_id']"
      ]
    },
    {
      "cell_type": "markdown",
      "metadata": {
        "id": "gdF17YJ1C9Uy"
      },
      "source": [
        "**Predicting Secondary Color Id **"
      ]
    },
    {
      "cell_type": "code",
      "execution_count": null,
      "metadata": {
        "id": "5HOb2eIIDEbR"
      },
      "outputs": [],
      "source": [
        "import pandas as pd\n",
        "df = pd.read_parquet('/content/drive/MyDrive/data/cleaned.parquet')"
      ]
    },
    {
      "cell_type": "code",
      "execution_count": null,
      "metadata": {
        "colab": {
          "base_uri": "https://localhost:8080/"
        },
        "id": "JBUbP11rSPWS",
        "outputId": "277cf212-756c-40d7-b96b-1e94783f72de"
      },
      "outputs": [
        {
          "name": "stdout",
          "output_type": "stream",
          "text": [
            "Accuracy: 0.30865939381723817\n"
          ]
        }
      ],
      "source": [
        "import pandas as pd\n",
        "from sklearn.model_selection import train_test_split\n",
        "from sklearn.feature_extraction.text import CountVectorizer\n",
        "from sklearn.ensemble import GradientBoostingClassifier\n",
        "from sklearn.metrics import accuracy_score\n",
        "\n",
        "\n",
        "# Selecting relevant arrtibutes\n",
        "attributes = ['title', 'tags']\n",
        "\n",
        "# Making feature matrix as X and target as y\n",
        "X = df[attributes]\n",
        "y = df['secondary_color_id']\n",
        "\n",
        "# Testing and training split\n",
        "X_train, X_test, y_train, y_test = train_test_split(X, y, test_size=0.2, random_state=42)\n",
        "\n",
        "# Attributes Vectorizing\n",
        "vector = CountVectorizer()\n",
        "X_train_vec = vector.fit_transform(X_train.apply(lambda x: ' '.join(x), axis=1))\n",
        "X_test_vec = vector.transform(X_test.apply(lambda x: ' '.join(x), axis=1))\n",
        "\n",
        "# Gradient Boosting\n",
        "clf = GradientBoostingClassifier(n_estimators=100, random_state=42)\n",
        "clf.fit(X_train_vec, y_train)\n",
        "\n",
        "# Prediction\n",
        "y_prediction = clf.predict(X_test_vec)\n",
        "\n",
        "#  Evaluation of the model\n",
        "model_accuracy = accuracy_score(y_test, y_pred)\n",
        "print(\"Accuracy:\", model_accuracy)\n"
      ]
    },
    {
      "cell_type": "code",
      "execution_count": null,
      "metadata": {
        "colab": {
          "base_uri": "https://localhost:8080/"
        },
        "id": "2B6u4SniZKq2",
        "outputId": "dbdb1259-e387-43de-b565-0ed80259c8b4"
      },
      "outputs": [
        {
          "name": "stdout",
          "output_type": "stream",
          "text": [
            "F1-score: 0.28510989810075205\n"
          ]
        }
      ],
      "source": [
        "from sklearn.metrics import f1_score\n",
        "f1score = f1_score(y_test, y_prediction, average='macro')\n",
        "print(\"F1-score:\", f1score)"
      ]
    },
    {
      "cell_type": "code",
      "execution_count": null,
      "metadata": {
        "id": "ZO6rZA8heXnb"
      },
      "outputs": [],
      "source": [
        "import pyarrow.parquet as pq\n",
        "import os\n",
        "import pandas as pd\n",
        "\n",
        "# Parquet files path\n",
        "directory = '/content/drive/MyDrive/data/test'\n",
        "\n",
        "# List of  all Parquet files\n",
        "parquet_files = [file for file in os.listdir(directory) if file.endswith('.parquet')]\n",
        "\n",
        "dfs = []\n",
        "\n",
        "# Loop through each Parquet file, read it, and append to the list\n",
        "for file in parquet_files:\n",
        "    filepath = os.path.join(directory, file)\n",
        "    dft = pq.read_table(filepath).to_pandas()\n",
        "    dfs.append(dft)\n",
        "\n",
        "# All the dataframe in single one\n",
        "testing_dataframe = pd.concat(dfs, ignore_index=True)"
      ]
    },
    {
      "cell_type": "code",
      "execution_count": null,
      "metadata": {
        "colab": {
          "base_uri": "https://localhost:8080/"
        },
        "id": "4apZ9-P1eX5J",
        "outputId": "fa12cd09-6021-40e9-f1f5-0327fc0ff3e3"
      },
      "outputs": [
        {
          "name": "stdout",
          "output_type": "stream",
          "text": [
            "predicted_secondary_color_id: [ 1  4 17 ... 17  7  4]\n"
          ]
        }
      ],
      "source": [
        "#  relevant features selection\n",
        "attributes = ['title', 'tags']\n",
        "\n",
        "X_new = testing_dataframe[attributes]\n",
        "X_new_vector = vectorizer.transform(X_new.apply(lambda x: ' '.join(x), axis=1))\n",
        "\n",
        "# new data predictions\n",
        "y_prediction_new = clf.predict(X_new_vetor)\n",
        "\n",
        "# Displaying the predictions\n",
        "print(\"predicted_secondary_color_id:\", y_prediction_new)"
      ]
    },
    {
      "cell_type": "code",
      "execution_count": null,
      "metadata": {
        "id": "UnNgCAzqfQzN"
      },
      "outputs": [],
      "source": [
        "testing_dataframe['secondary_color_id']=y_prediction_new"
      ]
    },
    {
      "cell_type": "code",
      "execution_count": null,
      "metadata": {
        "id": "SyhtawMEJE88"
      },
      "outputs": [],
      "source": [
        "columns = ['product_id', 'top_category_id', 'bottom_category_id','primary_color_id','secondary_color_id']\n",
        "\n",
        "prediction = testing_dataframe[columns].copy()"
      ]
    },
    {
      "cell_type": "code",
      "execution_count": null,
      "metadata": {
        "id": "iXY-mrVBJH0w"
      },
      "outputs": [],
      "source": [
        "import pandas as pd\n",
        "\n",
        "parquet_file = '/content/drive/MyDrive/data/predictions_23263895.parquet'\n",
        "\n",
        "prediction.to_parquet(parquet_file)"
      ]
    }
  ],
  "metadata": {
    "accelerator": "TPU",
    "colab": {
      "gpuType": "V28",
      "machine_shape": "hm",
      "provenance": []
    },
    "kernelspec": {
      "display_name": "Python 3",
      "name": "python3"
    },
    "language_info": {
      "name": "python"
    }
  },
  "nbformat": 4,
  "nbformat_minor": 0
}
